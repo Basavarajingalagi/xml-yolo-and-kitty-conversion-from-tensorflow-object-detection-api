{
 "cells": [
  {
   "cell_type": "markdown",
   "metadata": {
    "colab_type": "text",
    "id": "V8-yl-s-WKMG"
   },
   "source": [
    "# Object Detection API Demo\n",
    "\n",
    "<table align=\"left\"><td>\n",
    "  <a target=\"_blank\"  href=\"https://github.com/tensorflow/models/blob/master/research/object_detection/object_detection_tutorial.ipynb\">\n",
    "    <img src=\"https://www.tensorflow.org/images/colab_logo_32px.png\" />Run in Google Colab\n",
    "  </a>\n",
    "</td><td>\n",
    "  <a target=\"_blank\"  href=\"https://colab.sandbox.google.com/github/tensorflow/models/blob/master/research/object_detection/object_detection_tutorial.ipynb\">\n",
    "    <img width=32px src=\"https://www.tensorflow.org/images/GitHub-Mark-32px.png\" />View source on GitHub</a>\n",
    "</td></table>"
   ]
  },
  {
   "cell_type": "markdown",
   "metadata": {
    "colab_type": "text",
    "id": "3cIrseUv6WKz"
   },
   "source": [
    "Welcome to the [Object Detection API](https://github.com/tensorflow/models/tree/master/research/object_detection). This notebook will walk you step by step through the process of using a pre-trained model to detect objects in an image."
   ]
  },
  {
   "cell_type": "markdown",
   "metadata": {
    "colab_type": "text",
    "id": "VrJaG0cYN9yh"
   },
   "source": [
    "> **Important**: This tutorial is to help you through the first step towards using [Object Detection API](https://github.com/tensorflow/models/tree/master/research/object_detection) to build models. If you just just need an off the shelf model that does the job, see the [TFHub object detection example](https://colab.sandbox.google.com/github/tensorflow/hub/blob/master/examples/colab/object_detection.ipynb)."
   ]
  },
  {
   "cell_type": "markdown",
   "metadata": {
    "colab_type": "text",
    "id": "kFSqkTCdWKMI"
   },
   "source": [
    "# Setup"
   ]
  },
  {
   "cell_type": "markdown",
   "metadata": {
    "colab_type": "text",
    "id": "awjrpqy-6MaQ"
   },
   "source": [
    "Important: If you're running on a local machine, be sure to follow the [installation instructions](https://github.com/tensorflow/models/blob/master/research/object_detection/g3doc/installation.md). This notebook includes only what's necessary to run in Colab."
   ]
  },
  {
   "cell_type": "markdown",
   "metadata": {
    "colab_type": "text",
    "id": "p3UGXxUii5Ym"
   },
   "source": [
    "### Install"
   ]
  },
  {
   "cell_type": "markdown",
   "metadata": {
    "colab_type": "text",
    "id": "-vsOL3QR6kqs"
   },
   "source": [
    "Get `tensorflow/models` or `cd` to parent directory of the repository."
   ]
  },
  {
   "cell_type": "code",
   "execution_count": null,
   "metadata": {},
   "outputs": [],
   "source": []
  },
  {
   "cell_type": "code",
   "execution_count": 1,
   "metadata": {},
   "outputs": [
    {
     "name": "stdout",
     "output_type": "stream",
     "text": [
      "Enter value 0-1: 0.3\n"
     ]
    }
   ],
   "source": [
    "thresh_hold_val = float(input(\"Enter value 0-1: \"))"
   ]
  },
  {
   "cell_type": "code",
   "execution_count": 2,
   "metadata": {
    "colab": {},
    "colab_type": "code",
    "id": "ykA0c-om51s1"
   },
   "outputs": [],
   "source": [
    "import os\n",
    "import pathlib\n",
    "\n",
    "\n",
    "if \"models\" in pathlib.Path.cwd().parts:\n",
    "  while \"models\" in pathlib.Path.cwd().parts:\n",
    "    os.chdir('..')\n",
    "elif not pathlib.Path('models').exists():\n",
    "  !git clone --depth 1 https://github.com/tensorflow/models"
   ]
  },
  {
   "cell_type": "markdown",
   "metadata": {
    "colab_type": "text",
    "id": "O219m6yWAj9l"
   },
   "source": [
    "Compile protobufs and install the object_detection package"
   ]
  },
  {
   "cell_type": "markdown",
   "metadata": {
    "colab_type": "text",
    "id": "LBdjK2G5ywuc"
   },
   "source": [
    "### Imports"
   ]
  },
  {
   "cell_type": "code",
   "execution_count": 3,
   "metadata": {
    "colab": {},
    "colab_type": "code",
    "id": "hV4P5gyTWKMI"
   },
   "outputs": [],
   "source": [
    "import numpy as np\n",
    "import os\n",
    "import six.moves.urllib as urllib\n",
    "import sys\n",
    "import tarfile\n",
    "import tensorflow as tf\n",
    "import zipfile\n",
    "\n",
    "from collections import defaultdict\n",
    "from io import StringIO\n",
    "from matplotlib import pyplot as plt\n",
    "from PIL import Image\n",
    "from IPython.display import display\n",
    "from collections import Counter"
   ]
  },
  {
   "cell_type": "markdown",
   "metadata": {
    "colab_type": "text",
    "id": "r5FNuiRPWKMN"
   },
   "source": [
    "Import the object detection module."
   ]
  },
  {
   "cell_type": "code",
   "execution_count": 4,
   "metadata": {
    "colab": {},
    "colab_type": "code",
    "id": "4-IMl4b6BdGO"
   },
   "outputs": [],
   "source": [
    "from object_detection.utils import ops as utils_ops\n",
    "from object_detection.utils import label_map_util\n",
    "from object_detection.utils import visualization_utils as vis_util"
   ]
  },
  {
   "cell_type": "markdown",
   "metadata": {
    "colab_type": "text",
    "id": "RYPCiag2iz_q"
   },
   "source": [
    "Patches:"
   ]
  },
  {
   "cell_type": "code",
   "execution_count": 5,
   "metadata": {
    "colab": {},
    "colab_type": "code",
    "id": "mF-YlMl8c_bM"
   },
   "outputs": [],
   "source": [
    "# patch tf1 into `utils.ops`\n",
    "utils_ops.tf = tf.compat.v1\n",
    "\n",
    "# Patch the location of gfile\n",
    "tf.gfile = tf.io.gfile"
   ]
  },
  {
   "cell_type": "markdown",
   "metadata": {
    "colab_type": "text",
    "id": "cfn_tRFOWKMO"
   },
   "source": [
    "# Model preparation "
   ]
  },
  {
   "cell_type": "markdown",
   "metadata": {
    "colab_type": "text",
    "id": "X_sEBLpVWKMQ"
   },
   "source": [
    "## Variables\n",
    "\n",
    "Any model exported using the `export_inference_graph.py` tool can be loaded here simply by changing the path.\n",
    "\n",
    "By default we use an \"SSD with Mobilenet\" model here. See the [detection model zoo](https://github.com/tensorflow/models/blob/master/research/object_detection/g3doc/detection_model_zoo.md) for a list of other models that can be run out-of-the-box with varying speeds and accuracies."
   ]
  },
  {
   "cell_type": "markdown",
   "metadata": {
    "colab_type": "text",
    "id": "7ai8pLZZWKMS"
   },
   "source": [
    "## Loader"
   ]
  },
  {
   "cell_type": "code",
   "execution_count": 6,
   "metadata": {
    "colab": {},
    "colab_type": "code",
    "id": "zm8xp-0eoItE"
   },
   "outputs": [],
   "source": [
    "def load_model(model_name):\n",
    "  base_url = 'http://download.tensorflow.org/models/object_detection/'\n",
    "  model_file = model_name + '.tar.gz'\n",
    "  model_dir = tf.keras.utils.get_file(\n",
    "    fname=model_name, \n",
    "    origin=base_url + model_file,\n",
    "    untar=True)\n",
    "\n",
    "  model_dir = pathlib.Path(model_dir)/\"saved_model\"\n",
    "\n",
    "  model = tf.saved_model.load(str(model_dir))\n",
    "  model = model.signatures['serving_default']\n",
    "\n",
    "  return model"
   ]
  },
  {
   "cell_type": "markdown",
   "metadata": {
    "colab_type": "text",
    "id": "_1MVVTcLWKMW"
   },
   "source": [
    "## Loading label map\n",
    "Label maps map indices to category names, so that when our convolution network predicts `5`, we know that this corresponds to `airplane`.  Here we use internal utility functions, but anything that returns a dictionary mapping integers to appropriate string labels would be fine"
   ]
  },
  {
   "cell_type": "code",
   "execution_count": 7,
   "metadata": {
    "colab": {},
    "colab_type": "code",
    "id": "hDbpHkiWWKMX"
   },
   "outputs": [],
   "source": [
    "# List of the strings that is used to add correct label for each box.\n",
    "PATH_TO_LABELS = r'F:\\models-master\\research\\object_detection\\data\\mscoco_label_map.pbtxt'\n",
    "category_index = label_map_util.create_category_index_from_labelmap(PATH_TO_LABELS, use_display_name=True)"
   ]
  },
  {
   "cell_type": "markdown",
   "metadata": {
    "colab_type": "text",
    "id": "oVU3U_J6IJVb"
   },
   "source": [
    "For the sake of simplicity we will test on 2 images:"
   ]
  },
  {
   "cell_type": "markdown",
   "metadata": {
    "colab_type": "text",
    "id": "H0_1AGhrWKMc"
   },
   "source": [
    "# Detection"
   ]
  },
  {
   "cell_type": "markdown",
   "metadata": {
    "colab_type": "text",
    "id": "f7aOtOlebK7h"
   },
   "source": [
    "Load an object detection model:"
   ]
  },
  {
   "cell_type": "code",
   "execution_count": 8,
   "metadata": {
    "colab": {},
    "colab_type": "code",
    "id": "1XNT0wxybKR6"
   },
   "outputs": [
    {
     "name": "stdout",
     "output_type": "stream",
     "text": [
      "INFO:tensorflow:Saver not created because there are no variables in the graph to restore\n"
     ]
    }
   ],
   "source": [
    "model_name = 'ssd_resnet50_v1_fpn_shared_box_predictor_640x640_coco14_sync_2018_07_03'\n",
    "detection_model = load_model(model_name)"
   ]
  },
  {
   "cell_type": "markdown",
   "metadata": {
    "colab_type": "text",
    "id": "yN1AYfAEJIGp"
   },
   "source": [
    "Check the model's input signature, it expects a batch of 3-color images of type uint8: "
   ]
  },
  {
   "cell_type": "markdown",
   "metadata": {
    "colab_type": "text",
    "id": "z1wq0LVyMRR_"
   },
   "source": [
    "Run it on each test image and show the results:"
   ]
  },
  {
   "cell_type": "markdown",
   "metadata": {},
   "source": [
    "## realtime object detection"
   ]
  },
  {
   "cell_type": "code",
   "execution_count": 9,
   "metadata": {},
   "outputs": [],
   "source": [
    "import cv2\n",
    "from lxml import etree\n",
    "import xml.etree.cElementTree as ET\n"
   ]
  },
  {
   "cell_type": "code",
   "execution_count": 10,
   "metadata": {},
   "outputs": [],
   "source": [
    "#r'C:\\Users\\LENOVO\\Desktop\\dolly vidios\\car1.mp4'"
   ]
  },
  {
   "cell_type": "code",
   "execution_count": 15,
   "metadata": {
    "scrolled": true
   },
   "outputs": [],
   "source": [
    "def playvideo(videofile,location,frame_number):\n",
    "    cap = cv2.VideoCapture(videofile)\n",
    "    count= 0\n",
    "    zero_array = [0]*2\n",
    "    items = ['person','car']\n",
    "    sourceDirectory = r'C:\\Users\\LENOVO\\Desktop\\dolly vidios\\yolo\\labels'\n",
    "    sourceDirectory2 = r'C:\\Users\\LENOVO\\Desktop\\dolly vidios\\yolo\\yololabels'\n",
    "    while cap.isOpened():\n",
    "        ret, image_np = cap.read()\n",
    "        ret1,frame = cap.read()\n",
    "          # Expand dimensions since the model expects images to have shape: [1, None, None, 3]\n",
    "        if ret:\n",
    "            image = np.asarray(image_np)\n",
    "          # The input needs to be a tensor, convert it using `tf.convert_to_tensor`.\n",
    "            input_tensor = tf.convert_to_tensor(image)\n",
    "          # The model expects a batch of images, so add an axis with `tf.newaxis`.\n",
    "            input_tensor = input_tensor[tf.newaxis,...]\n",
    "\n",
    "          # Run inference\n",
    "            output_dict = detection_model(input_tensor)\n",
    "\n",
    "          # All outputs are batches tensors.\n",
    "          # Convert to numpy arrays, and take index [0] to remove the batch dimension.\n",
    "          # We're only interested in the first num_detections.\n",
    "            num_detections = int(output_dict.pop('num_detections'))\n",
    "            output_dict = {key:value[0, :num_detections].numpy() \n",
    "                         for key,value in output_dict.items()}\n",
    "            output_dict['num_detections'] = num_detections\n",
    "\n",
    "          # detection_classes should be ints.\n",
    "            output_dict['detection_classes'] = output_dict['detection_classes'].astype(np.int64)\n",
    "              # Visualization of the results of a detection.\n",
    "            vis_util.visualize_boxes_and_labels_on_image_array(\n",
    "              image_np,\n",
    "              output_dict['detection_boxes'],\n",
    "              output_dict['detection_classes'],\n",
    "              output_dict['detection_scores'],\n",
    "              category_index,\n",
    "              instance_masks=output_dict.get('detection_masks_reframed', None),\n",
    "              use_normalized_coordinates=True,\n",
    "              min_score_thresh=thresh_hold_val,\n",
    "              line_thickness=8)\n",
    "\n",
    "\n",
    "\n",
    "            image,boxes,classname,classes = vis_util.visualize_boxes_and_labels_on_image_array(image_np,\n",
    "                                                                           output_dict['detection_boxes'],\n",
    "                                                                           output_dict['detection_classes'],\n",
    "                                                                           output_dict['detection_scores'],\n",
    "                                                                           category_index,\n",
    "                                                                           instance_masks=output_dict.get('detection_masks_reframed', None),\n",
    "                                                                           use_normalized_coordinates=True,\n",
    "                                                                           min_score_thresh=thresh_hold_val,\n",
    "                                                                           line_thickness=8)\n",
    "\n",
    "            img = cv2.cvtColor(frame, cv2.COLOR_BGR2RGB)\n",
    "\n",
    "\n",
    "\n",
    "            im = Image.fromarray(img)\n",
    "            width,height = im.size\n",
    "\n",
    "            \n",
    "            annotation = ET.Element('annotation')\n",
    "            ET.SubElement(annotation, 'folder').text = 'kitty'\n",
    "            ET.SubElement(annotation, 'filename').text = str(count)+'.jpg'\n",
    "            ET.SubElement(annotation, 'segmented').text = '0'\n",
    "            size = ET.SubElement(annotation, 'size')\n",
    "            ET.SubElement(size, 'width').text = str(width)\n",
    "            ET.SubElement(size, 'height').text = str(height)\n",
    "            ET.SubElement(size, 'depth').text = '3'\n",
    "            \n",
    "            \n",
    "            \n",
    "            lines = []\n",
    "            yolotext = []\n",
    "            for i in boxes:\n",
    "              left =  int(i[1]*width)\n",
    "              bottom = int(i[2]*height)\n",
    "              right =int(i[3]*width)\n",
    "              top = int(i[0]*height)\n",
    "              val = (left, top, right, bottom)\n",
    "              im1 = im.crop((left, top, right, bottom))\n",
    "\n",
    "              index = boxes.index(i)\n",
    "              object_name = classname[index]\n",
    "              classid = classes[index]\n",
    "              if classid == 3:\n",
    "                  classid = 0\n",
    "              path = location+'/'+object_name    #r'C:\\Users\\LENOVO\\Desktop\\dolly\n",
    "\n",
    "              objindex= items.index(object_name)\n",
    "              zero_array[objindex] +=1\n",
    "              a = zero_array[objindex]  \n",
    "              \n",
    "              dw = 1./width\n",
    "              dh = 1./height\n",
    "              \n",
    "              x = (left+right)/2.0\n",
    "              y = (top+bottom)/2.0\n",
    "              w = right - left\n",
    "              h = bottom - top\n",
    "              \n",
    "              x = x*dw\n",
    "              y = y*dh\n",
    "              w = w*dw\n",
    "              h = h*dh\n",
    "              \n",
    "              yolotext.append(str(classid)+' '+str(round(x,3))+' '+str(round(y,3))+' '+str(round(w,3))+' '+str(round(h,3)))\n",
    "              lines.append(object_name + ' ' + '0.00 0 0.00 ' +str(left) + ' ' + str(top) + ' ' + str(right) + ' ' + str(bottom) + ' 0.00 0.00 0.00 0.00 0.00 0.00 0.00')\n",
    "                           \n",
    "              if not os.path.exists(path):\n",
    "                 os.makedirs(path)\n",
    "              im1.save(path+'/'+object_name+str(a)+'.jpg')  \n",
    "            \n",
    "              ob = ET.SubElement(annotation, 'object')\n",
    "              ET.SubElement(ob, 'name').text = object_name\n",
    "              ET.SubElement(ob, 'pose').text = 'Unspecified'\n",
    "              ET.SubElement(ob, 'truncated').text = '0'\n",
    "              ET.SubElement(ob, 'difficult').text = '0'\n",
    "              bbox = ET.SubElement(ob, 'bndbox')\n",
    "              ET.SubElement(bbox, 'xmin').text = str(left)\n",
    "              ET.SubElement(bbox, 'ymin').text = str(top)\n",
    "              ET.SubElement(bbox, 'xmax').text = str(right)\n",
    "              ET.SubElement(bbox, 'ymax').text = str(bottom)\n",
    "\n",
    "            xml_str = ET.tostring(annotation)\n",
    "            root = etree.fromstring(xml_str)\n",
    "            xml_str = etree.tostring(root, pretty_print=True)\n",
    "            xml_labels = str(count) + '.xml'\n",
    "            save_path = os.path.join(sourceDirectory, xml_labels)\n",
    "            with open(save_path, 'wb') as temp_xml:\n",
    "                temp_xml.write(xml_str)\n",
    "              \n",
    "            \n",
    "            \n",
    "            \n",
    "            \n",
    "            yolo_label = str(count)+ '.txt'\n",
    "            with open(os.path.join(sourceDirectory2, yolo_label), \"w\") as text12_file:\n",
    "                for item in yolotext:\n",
    "                    text12_file.write(\"%s\\n\" % item)              \n",
    "            \n",
    "\n",
    "            kitti_labels = str(count) + '.txt'\n",
    "            with open(os.path.join(sourceDirectory, kitti_labels), \"w\") as text_file:\n",
    "                for item in lines:\n",
    "                    text_file.write(\"%s\\n\" % item)\n",
    "            im.save(sourceDirectory+'/'+str(count)+'.jpg')\n",
    "            count += frame_number         #30 # i.e. at 30 fps, this advances one second\n",
    "            cap.set(1, count)\n",
    "\n",
    "\n",
    "\n",
    "\n",
    "\n",
    "\n",
    "            cv2.imshow('object detection',image_np)\n",
    "            if cv2.waitKey(25) & 0xFF == ord('q'):\n",
    "                break\n",
    "        else:\n",
    "            cap.release()\n",
    "            break\n",
    "    #cap.release()\n",
    "    cv2.destroyAllWindows()"
   ]
  },
  {
   "cell_type": "code",
   "execution_count": 16,
   "metadata": {},
   "outputs": [
    {
     "name": "stdout",
     "output_type": "stream",
     "text": [
      "enter the videofile input pathC:\\Users\\LENOVO\\Desktop\\dolly vidios\\car1.mp4\n",
      "enter the path location to save imagesC:\\Users\\LENOVO\\Desktop\\dolly vidios\\yolo\n",
      "enter the frame number30\n"
     ]
    }
   ],
   "source": [
    "videofile = input('enter the videofile input path')\n",
    "location = input('enter the path location to save images')\n",
    "frame_number = int(input('enter the frame number'))\n",
    "playvideo(videofile,location,frame_number)"
   ]
  },
  {
   "cell_type": "code",
   "execution_count": null,
   "metadata": {},
   "outputs": [],
   "source": [
    "#C:\\Users\\LENOVO\\Desktop\\dolly vidios\\yolo\n"
   ]
  }
 ],
 "metadata": {
  "accelerator": "GPU",
  "colab": {
   "collapsed_sections": [],
   "last_runtime": {
    "build_target": "//learning/brain/python/client:colab_notebook",
    "kind": "private"
   },
   "name": "object_detection_tutorial.ipynb",
   "private_outputs": true,
   "provenance": [
    {
     "file_id": "1LNYL6Zsn9Xlil2CVNOTsgDZQSBKeOjCh",
     "timestamp": 1566498233247
    },
    {
     "file_id": "/piper/depot/google3/third_party/tensorflow_models/object_detection/object_detection_tutorial.ipynb?workspaceId=markdaoust:copybara_AFABFE845DCD573AD3D43A6BAFBE77D4_0::citc",
     "timestamp": 1566488313397
    },
    {
     "file_id": "/piper/depot/google3/third_party/py/tensorflow_docs/g3doc/en/r2/tutorials/generative/object_detection_tutorial.ipynb?workspaceId=markdaoust:copybara_AFABFE845DCD573AD3D43A6BAFBE77D4_0::citc",
     "timestamp": 1566145894046
    },
    {
     "file_id": "1nBPoWynOV0auSIy40eQcBIk9C6YRSkI8",
     "timestamp": 1566145841085
    },
    {
     "file_id": "/piper/depot/google3/third_party/tensorflow_models/object_detection/object_detection_tutorial.ipynb?workspaceId=markdaoust:copybara_AFABFE845DCD573AD3D43A6BAFBE77D4_0::citc",
     "timestamp": 1556295408037
    },
    {
     "file_id": "1layerger-51XwWOwYMY_5zHaCavCeQkO",
     "timestamp": 1556214267924
    },
    {
     "file_id": "/piper/depot/google3/third_party/tensorflow_models/object_detection/object_detection_tutorial.ipynb?workspaceId=markdaoust:copybara_AFABFE845DCD573AD3D43A6BAFBE77D4_0::citc",
     "timestamp": 1556207836484
    },
    {
     "file_id": "1w6mqQiNV3liPIX70NOgitOlDF1_4sRMw",
     "timestamp": 1556154824101
    },
    {
     "file_id": "https://github.com/tensorflow/models/blob/master/research/object_detection/object_detection_tutorial.ipynb",
     "timestamp": 1556150293326
    }
   ],
   "version": "0.3.2"
  },
  "kernelspec": {
   "display_name": "Python 3",
   "language": "python",
   "name": "python3"
  },
  "language_info": {
   "codemirror_mode": {
    "name": "ipython",
    "version": 3
   },
   "file_extension": ".py",
   "mimetype": "text/x-python",
   "name": "python",
   "nbconvert_exporter": "python",
   "pygments_lexer": "ipython3",
   "version": "3.7.4"
  }
 },
 "nbformat": 4,
 "nbformat_minor": 1
}
